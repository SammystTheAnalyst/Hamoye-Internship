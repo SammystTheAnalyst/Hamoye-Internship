{
 "cells": [
  {
   "cell_type": "markdown",
   "id": "0cc4f9eb",
   "metadata": {},
   "source": [
    "# Explorative Analysis of Properties in Nigeria"
   ]
  },
  {
   "cell_type": "markdown",
   "id": "0dcb169a",
   "metadata": {},
   "source": [
    "I import the necessary libraries for the analysis"
   ]
  },
  {
   "cell_type": "code",
   "execution_count": 1,
   "id": "f6db4968",
   "metadata": {},
   "outputs": [],
   "source": [
    "from bs4 import BeautifulSoup\n",
    "import requests\n",
    "import pandas as pd\n",
    "import selenium"
   ]
  },
  {
   "cell_type": "markdown",
   "id": "233bc6d2",
   "metadata": {},
   "source": [
    "Then I scrape the data containing nature of the property, type of property, date posted, date updated, address of property, number of beds, baths and toilets.\n",
    "N.B. Property in this case include lands and houses."
   ]
  },
  {
   "cell_type": "code",
   "execution_count": 22,
   "id": "f2ba6954",
   "metadata": {},
   "outputs": [],
   "source": [
    "property_ng = {}\n",
    "property_no = 0\n",
    "\n",
    "headers = {\"User-Agent\": \"Mozilla/5.0 (Windows NT 10.0; Win64; x64) AppleWebKit/537.36 (KHTML, like Gecko) Chrome/104.0.0.0 Safari/537.36\",}\n",
    "\n",
    "for page in range(0,25):\n",
    "    url = \"https://www.propertypro.ng/property-for-sale?search=&auto=&type=&bedroom=&min_price=&max_price={page}\".format(page=page)\n",
    "    response = requests.get(url, headers=headers)\n",
    "    data = response.text\n",
    "    soup = BeautifulSoup(data, 'html.parser')\n",
    "    properties = soup.find_all('div',{'class':'single-room-sale listings-property'})\n",
    "    for prop in properties:\n",
    "\n",
    "        date_posted = prop.find('h5', class_=False, id=False).text.replace(',', ' ')\n",
    "        date_updated = date_posted.split()[1:4]\n",
    "        nature_of_property = prop.find('h4', {'class':\"listings-property-title\"}).text\n",
    "        type_of_property = prop.find('h3', {'class':\"listings-property-title2\"}).text\n",
    "        address_of_property = prop.find('h4', class_=False, id=False).text\n",
    "        no_Beds_Baths_Toilets = prop.find('div', {'class':\"fur-areea\"})\n",
    "        no_of_beds_baths_toilets = no_Beds_Baths_Toilets.text.replace('\\n',' ') if no_Beds_Baths_Toilets else \"Not Available\"\n",
    "\n",
    "        property_no+=1\n",
    "        property_ng[property_no] = [date_posted,date_updated,nature_of_property,type_of_property,address_of_property,no_of_beds_baths_toilets]\n",
    "    #print('Total properties:', property_no)\n",
    "    property_df1 = pd.DataFrame.from_dict(property_ng, orient = 'index', columns = ['Date_posted','Date_updated','Nature_of_property','Type_of_property','Property_Location','No_of_beds_baths_toilets'])"
   ]
  },
  {
   "cell_type": "code",
   "execution_count": 21,
   "id": "0e2b1ee2",
   "metadata": {},
   "outputs": [],
   "source": [
    "# Getting the top rows of the data\n",
    "property_df1.head()"
   ]
  },
  {
   "cell_type": "code",
   "execution_count": 20,
   "id": "ab32c64a",
   "metadata": {},
   "outputs": [],
   "source": [
    "# Saving to CSV\n",
    "property_df1.to_csv('Property_data.csv')"
   ]
  },
  {
   "cell_type": "markdown",
   "id": "f661ca31",
   "metadata": {},
   "source": [
    "# Reading the property data"
   ]
  },
  {
   "cell_type": "code",
   "execution_count": 2,
   "id": "8173915a",
   "metadata": {},
   "outputs": [
    {
     "name": "stdout",
     "output_type": "stream",
     "text": [
      "   Unnamed: 0                                Date_posted  \\\n",
      "0           1    Updated 28 Aug 2022  Added 17 May 2022    \n",
      "1           2    Updated 29 Aug 2022  Added 05 Aug 2022    \n",
      "2           3    Updated 22 Aug 2022  Added 11 Apr 2022    \n",
      "3           4    Updated 28 Jul 2022  Added 09 Nov 2021    \n",
      "4           5    Updated 28 Jul 2022  Added 14 Jan 2022    \n",
      "\n",
      "            Date_updated        Nature_of_property  \\\n",
      "0  ['28', 'Aug', '2022']  4 BEDROOM HOUSE FOR SALE   \n",
      "1  ['29', 'Aug', '2022']             LAND FOR SALE   \n",
      "2  ['22', 'Aug', '2022']             LAND FOR SALE   \n",
      "3  ['28', 'Jul', '2022']             LAND FOR SALE   \n",
      "4  ['28', 'Jul', '2022']             LAND FOR SALE   \n",
      "\n",
      "                          Type_of_property  \\\n",
      "0  Spacious 4 Bedroom Semi Detached Duplex   \n",
      "1                      2400sqm Land For Jv   \n",
      "2    Joint Venture Land Measuring 21 Plots   \n",
      "3                   Land For Sale In Lekki   \n",
      "4                8000 Sqm Of Joint Venture   \n",
      "\n",
      "                                   Property_Location  \\\n",
      "0                        Second Tollgate Lekki Lagos   \n",
      "1                                  Ikate Lekki Lagos   \n",
      "2  Chevron Cooperative Estate, Alpha Beach New Ro...   \n",
      "3                                        Lekki Lagos   \n",
      "4                          Lekki Phase 1 Lekki Lagos   \n",
      "\n",
      "     No_of_beds_baths_toilets  \n",
      "0   4 beds 4 baths 5 Toilets   \n",
      "1   0 beds 0 baths 0 Toilets   \n",
      "2       beds  baths  Toilets   \n",
      "3   0 beds 0 baths 0 Toilets   \n",
      "4   0 beds 0 baths 0 Toilets   \n"
     ]
    }
   ],
   "source": [
    "property_df1 = pd.read_csv('Property_data.csv')\n",
    "\n",
    "print(property_df1.head())"
   ]
  },
  {
   "cell_type": "code",
   "execution_count": 3,
   "id": "76dae8ab",
   "metadata": {},
   "outputs": [
    {
     "data": {
      "text/plain": [
       "Index(['Unnamed: 0', 'Date_posted', 'Date_updated', 'Nature_of_property',\n",
       "       'Type_of_property', 'Property_Location', 'No_of_beds_baths_toilets'],\n",
       "      dtype='object')"
      ]
     },
     "execution_count": 3,
     "metadata": {},
     "output_type": "execute_result"
    }
   ],
   "source": [
    "property_df1.columns"
   ]
  },
  {
   "cell_type": "markdown",
   "id": "8885ed13",
   "metadata": {},
   "source": [
    "# Data Cleaning process\n",
    "\n",
    "1. Dropping redundant column(s)\n",
    "2. Column Separation\n",
    "3. Identifying and removing the null values"
   ]
  },
  {
   "cell_type": "markdown",
   "id": "ab04bae9",
   "metadata": {},
   "source": [
    "I shall drop some columns that are not essential to our analysis"
   ]
  },
  {
   "cell_type": "code",
   "execution_count": 4,
   "id": "39d8f70e",
   "metadata": {},
   "outputs": [
    {
     "data": {
      "text/plain": [
       "Index(['Date_posted', 'Nature_of_property', 'Type_of_property',\n",
       "       'Property_Location', 'No_of_beds_baths_toilets'],\n",
       "      dtype='object')"
      ]
     },
     "execution_count": 4,
     "metadata": {},
     "output_type": "execute_result"
    }
   ],
   "source": [
    "property_df2 = property_df1.drop(columns=['Date_updated','Unnamed: 0'])\n",
    "\n",
    "# Confirming deletion of the columns\n",
    "\n",
    "property_df2.columns"
   ]
  },
  {
   "cell_type": "markdown",
   "id": "fa94226b",
   "metadata": {},
   "source": [
    "I shall separate the columns below:\n",
    "1. 'Date_posted' into 'Date added' and 'Date updated'\n",
    "2. 'No_of_beds_baths_toilets' into 'No_of_beds', 'No_of_baths' and 'No_of_toilets'"
   ]
  },
  {
   "cell_type": "markdown",
   "id": "7f55abe8",
   "metadata": {},
   "source": [
    "# 1."
   ]
  },
  {
   "cell_type": "code",
   "execution_count": 5,
   "id": "028339d1",
   "metadata": {},
   "outputs": [],
   "source": [
    "# I removed the values that have 'added' behind them, assigning them to a new column 'Date_updated'\n",
    "property_df2['Date_updated'] = property_df2['Date_posted'].apply(lambda row:row[:row.find('Added')])\n",
    "\n",
    "# I remove the string 'Updated' in the new column\n",
    "property_df2['Date_updated'] = property_df2['Date_updated'].str.strip('Updated ')"
   ]
  },
  {
   "cell_type": "code",
   "execution_count": 6,
   "id": "3445105d",
   "metadata": {},
   "outputs": [],
   "source": [
    "# I create a new list 'Date_added' to put it the values\n",
    "\n",
    "Date_added = []\n",
    "\n",
    "for i in property_df2['Date_posted']:\n",
    "    if 'Added' in i:\n",
    "        ans = i.split('Added')[1]\n",
    "    else:\n",
    "        answer = i\n",
    "    Date_added.append(ans)\n",
    "    \n",
    "# I convert the list into a new column 'Date_added' in the data\n",
    "\n",
    "property_df2['Date_added'] = Date_added"
   ]
  },
  {
   "cell_type": "code",
   "execution_count": 7,
   "id": "7d89eb91",
   "metadata": {},
   "outputs": [
    {
     "data": {
      "text/plain": [
       "Index(['Date_posted', 'Nature_of_property', 'Type_of_property',\n",
       "       'Property_Location', 'No_of_beds_baths_toilets', 'Date_updated',\n",
       "       'Date_added'],\n",
       "      dtype='object')"
      ]
     },
     "execution_count": 7,
     "metadata": {},
     "output_type": "execute_result"
    }
   ],
   "source": [
    "# Confirming the inclusion of the new columns in the data\n",
    "property_df2.columns"
   ]
  },
  {
   "cell_type": "markdown",
   "id": "ba8502a5",
   "metadata": {},
   "source": [
    "Since the column 'Date_posted' won't be needed again, I simply drop it."
   ]
  },
  {
   "cell_type": "code",
   "execution_count": 8,
   "id": "0cedf81a",
   "metadata": {},
   "outputs": [
    {
     "data": {
      "text/html": [
       "<div>\n",
       "<style scoped>\n",
       "    .dataframe tbody tr th:only-of-type {\n",
       "        vertical-align: middle;\n",
       "    }\n",
       "\n",
       "    .dataframe tbody tr th {\n",
       "        vertical-align: top;\n",
       "    }\n",
       "\n",
       "    .dataframe thead th {\n",
       "        text-align: right;\n",
       "    }\n",
       "</style>\n",
       "<table border=\"1\" class=\"dataframe\">\n",
       "  <thead>\n",
       "    <tr style=\"text-align: right;\">\n",
       "      <th></th>\n",
       "      <th>Nature_of_property</th>\n",
       "      <th>Type_of_property</th>\n",
       "      <th>Property_Location</th>\n",
       "      <th>No_of_beds_baths_toilets</th>\n",
       "      <th>Date_updated</th>\n",
       "      <th>Date_added</th>\n",
       "    </tr>\n",
       "  </thead>\n",
       "  <tbody>\n",
       "    <tr>\n",
       "      <th>0</th>\n",
       "      <td>4 BEDROOM HOUSE FOR SALE</td>\n",
       "      <td>Spacious 4 Bedroom Semi Detached Duplex</td>\n",
       "      <td>Second Tollgate Lekki Lagos</td>\n",
       "      <td>4 beds 4 baths 5 Toilets</td>\n",
       "      <td>28 Aug 2022</td>\n",
       "      <td>17 May 2022</td>\n",
       "    </tr>\n",
       "    <tr>\n",
       "      <th>1</th>\n",
       "      <td>LAND FOR SALE</td>\n",
       "      <td>2400sqm Land For Jv</td>\n",
       "      <td>Ikate Lekki Lagos</td>\n",
       "      <td>0 beds 0 baths 0 Toilets</td>\n",
       "      <td>29 Aug 2022</td>\n",
       "      <td>05 Aug 2022</td>\n",
       "    </tr>\n",
       "    <tr>\n",
       "      <th>2</th>\n",
       "      <td>LAND FOR SALE</td>\n",
       "      <td>Joint Venture Land Measuring 21 Plots</td>\n",
       "      <td>Chevron Cooperative Estate, Alpha Beach New Ro...</td>\n",
       "      <td>beds  baths  Toilets</td>\n",
       "      <td>22 Aug 2022</td>\n",
       "      <td>11 Apr 2022</td>\n",
       "    </tr>\n",
       "    <tr>\n",
       "      <th>3</th>\n",
       "      <td>LAND FOR SALE</td>\n",
       "      <td>Land For Sale In Lekki</td>\n",
       "      <td>Lekki Lagos</td>\n",
       "      <td>0 beds 0 baths 0 Toilets</td>\n",
       "      <td>28 Jul 2022</td>\n",
       "      <td>09 Nov 2021</td>\n",
       "    </tr>\n",
       "    <tr>\n",
       "      <th>4</th>\n",
       "      <td>LAND FOR SALE</td>\n",
       "      <td>8000 Sqm Of Joint Venture</td>\n",
       "      <td>Lekki Phase 1 Lekki Lagos</td>\n",
       "      <td>0 beds 0 baths 0 Toilets</td>\n",
       "      <td>28 Jul 2022</td>\n",
       "      <td>14 Jan 2022</td>\n",
       "    </tr>\n",
       "    <tr>\n",
       "      <th>...</th>\n",
       "      <td>...</td>\n",
       "      <td>...</td>\n",
       "      <td>...</td>\n",
       "      <td>...</td>\n",
       "      <td>...</td>\n",
       "      <td>...</td>\n",
       "    </tr>\n",
       "    <tr>\n",
       "      <th>481</th>\n",
       "      <td>LAND FOR SALE</td>\n",
       "      <td>Land</td>\n",
       "      <td>Caritas Luxury Homes Okun Iseki Ibeju Lekki Fr...</td>\n",
       "      <td>0 beds 0 baths 0 Toilets</td>\n",
       "      <td>11 Apr 2022</td>\n",
       "      <td>30 Jan 2022</td>\n",
       "    </tr>\n",
       "    <tr>\n",
       "      <th>482</th>\n",
       "      <td>LAND FOR SALE</td>\n",
       "      <td>Land</td>\n",
       "      <td>Ibeju Lekki Lagos</td>\n",
       "      <td>0 beds 0 baths 0 Toilets</td>\n",
       "      <td></td>\n",
       "      <td>09 Mar 2022</td>\n",
       "    </tr>\n",
       "    <tr>\n",
       "      <th>483</th>\n",
       "      <td>6 BEDROOM HOUSE FOR SALE</td>\n",
       "      <td>6 Bedroom Fully Detached</td>\n",
       "      <td>Banana Island Ikoyi Lagos</td>\n",
       "      <td>6 beds 7 baths 6 Toilets</td>\n",
       "      <td></td>\n",
       "      <td>07 Mar 2022</td>\n",
       "    </tr>\n",
       "    <tr>\n",
       "      <th>484</th>\n",
       "      <td>LAND FOR SALE</td>\n",
       "      <td>Land</td>\n",
       "      <td>Epe Lagos</td>\n",
       "      <td>0 beds 0 baths 0 Toilets</td>\n",
       "      <td></td>\n",
       "      <td>24 Feb 2022</td>\n",
       "    </tr>\n",
       "    <tr>\n",
       "      <th>485</th>\n",
       "      <td>LAND FOR SALE</td>\n",
       "      <td>Land</td>\n",
       "      <td>Abijo Ajah Lagos</td>\n",
       "      <td>0 beds 0 baths 0 Toilets</td>\n",
       "      <td></td>\n",
       "      <td>20 Aug 2022</td>\n",
       "    </tr>\n",
       "  </tbody>\n",
       "</table>\n",
       "<p>486 rows × 6 columns</p>\n",
       "</div>"
      ],
      "text/plain": [
       "           Nature_of_property                         Type_of_property  \\\n",
       "0    4 BEDROOM HOUSE FOR SALE  Spacious 4 Bedroom Semi Detached Duplex   \n",
       "1               LAND FOR SALE                      2400sqm Land For Jv   \n",
       "2               LAND FOR SALE    Joint Venture Land Measuring 21 Plots   \n",
       "3               LAND FOR SALE                   Land For Sale In Lekki   \n",
       "4               LAND FOR SALE                8000 Sqm Of Joint Venture   \n",
       "..                        ...                                      ...   \n",
       "481             LAND FOR SALE                                     Land   \n",
       "482             LAND FOR SALE                                     Land   \n",
       "483  6 BEDROOM HOUSE FOR SALE                 6 Bedroom Fully Detached   \n",
       "484             LAND FOR SALE                                     Land   \n",
       "485             LAND FOR SALE                                     Land   \n",
       "\n",
       "                                     Property_Location  \\\n",
       "0                          Second Tollgate Lekki Lagos   \n",
       "1                                    Ikate Lekki Lagos   \n",
       "2    Chevron Cooperative Estate, Alpha Beach New Ro...   \n",
       "3                                          Lekki Lagos   \n",
       "4                            Lekki Phase 1 Lekki Lagos   \n",
       "..                                                 ...   \n",
       "481  Caritas Luxury Homes Okun Iseki Ibeju Lekki Fr...   \n",
       "482                                  Ibeju Lekki Lagos   \n",
       "483                          Banana Island Ikoyi Lagos   \n",
       "484                                          Epe Lagos   \n",
       "485                                   Abijo Ajah Lagos   \n",
       "\n",
       "       No_of_beds_baths_toilets Date_updated     Date_added  \n",
       "0     4 beds 4 baths 5 Toilets   28 Aug 2022   17 May 2022   \n",
       "1     0 beds 0 baths 0 Toilets   29 Aug 2022   05 Aug 2022   \n",
       "2         beds  baths  Toilets   22 Aug 2022   11 Apr 2022   \n",
       "3     0 beds 0 baths 0 Toilets   28 Jul 2022   09 Nov 2021   \n",
       "4     0 beds 0 baths 0 Toilets   28 Jul 2022   14 Jan 2022   \n",
       "..                          ...          ...            ...  \n",
       "481   0 beds 0 baths 0 Toilets   11 Apr 2022   30 Jan 2022   \n",
       "482   0 beds 0 baths 0 Toilets                 09 Mar 2022   \n",
       "483   6 beds 7 baths 6 Toilets                 07 Mar 2022   \n",
       "484   0 beds 0 baths 0 Toilets                 24 Feb 2022   \n",
       "485   0 beds 0 baths 0 Toilets                 20 Aug 2022   \n",
       "\n",
       "[486 rows x 6 columns]"
      ]
     },
     "execution_count": 8,
     "metadata": {},
     "output_type": "execute_result"
    }
   ],
   "source": [
    "property_df2 = property_df2.drop(columns='Date_posted')\n",
    "\n",
    "property_df2"
   ]
  },
  {
   "cell_type": "markdown",
   "id": "a8a06f77",
   "metadata": {},
   "source": [
    "# 2."
   ]
  },
  {
   "cell_type": "code",
   "execution_count": 9,
   "id": "71c3bfbb",
   "metadata": {},
   "outputs": [],
   "source": [
    "# I create a new list 'No_of_beds' to put in the values\n",
    "\n",
    "No_of_beds = []\n",
    "for i in property_df2['No_of_beds_baths_toilets']:\n",
    "    if 'beds' in i:\n",
    "        ans = i.split('beds')[0]\n",
    "    else:\n",
    "        ans = i\n",
    "    No_of_beds.append(ans)\n",
    "    \n",
    "# I convert the list into a new column 'No_of_beds' in the data\n",
    "\n",
    "property_df2['No_of_beds'] = No_of_beds"
   ]
  },
  {
   "cell_type": "code",
   "execution_count": 10,
   "id": "fda280ed",
   "metadata": {},
   "outputs": [],
   "source": [
    "# I create a new list 'No_of_baths' to put in the values\n",
    "\n",
    "No_of_baths = []\n",
    "for i in property_df2['No_of_beds_baths_toilets']:\n",
    "    if 'baths' in i:\n",
    "        ans = i.split('baths')[0]\n",
    "    else:\n",
    "        ans = i\n",
    "    No_of_baths.append(ans)\n",
    "    \n",
    "# Since the result above still contains the string 'beds' and its values, i have to remove them\n",
    "\n",
    "No_of_bath = []\n",
    "for i in No_of_baths:\n",
    "    if 'beds' in i:\n",
    "        ans = i.split('beds')[1]\n",
    "    else:\n",
    "        ans = i\n",
    "    No_of_bath.append(ans)\n",
    "    \n",
    "# I convert the list into a new column 'No_of_baths' in the data\n",
    "\n",
    "property_df2['No_of_baths'] = No_of_bath"
   ]
  },
  {
   "cell_type": "code",
   "execution_count": 11,
   "id": "e53320d8",
   "metadata": {},
   "outputs": [],
   "source": [
    "# I create a new list 'No_of_toilets' to put in the values\n",
    "\n",
    "No_of_toilets = []\n",
    "for i in property_df2['No_of_beds_baths_toilets']:\n",
    "    if 'Toilets' in i:\n",
    "        ans = i.split('Toilets')[0]\n",
    "    else:\n",
    "        ans = i\n",
    "    No_of_toilets.append(ans)\n",
    "    \n",
    "# Since the result above still contains the string 'beds', 'baths' and their values, i have to remove them\n",
    "\n",
    "No_of_toilet = []\n",
    "for i in No_of_toilets:\n",
    "    if 'beds' in i:\n",
    "        ans = i.split('beds')[1]\n",
    "    else:\n",
    "        ans = i\n",
    "    No_of_toilet.append(ans)\n",
    "    \n",
    "No_of_Toilet = []\n",
    "for i in No_of_toilet:\n",
    "    if 'baths' in i:\n",
    "        ans = i.split('baths')[1]\n",
    "    else:\n",
    "        ans = i\n",
    "    No_of_Toilet.append(ans)\n",
    "    \n",
    "# I convert the list into a new column 'No_of_toilets' in the data\n",
    "\n",
    "property_df2['No_of_toilets'] = No_of_Toilet"
   ]
  },
  {
   "cell_type": "code",
   "execution_count": 12,
   "id": "23cda10f",
   "metadata": {},
   "outputs": [],
   "source": [
    "# I delete the column 'No_of_beds_baths_toilets' in the data\n",
    "\n",
    "property_df3 = property_df2.drop(columns=['No_of_beds_baths_toilets'])"
   ]
  },
  {
   "cell_type": "markdown",
   "id": "f84e94f6",
   "metadata": {},
   "source": [
    "# 3."
   ]
  },
  {
   "cell_type": "code",
   "execution_count": 66,
   "id": "2faf1f49",
   "metadata": {},
   "outputs": [
    {
     "data": {
      "text/plain": [
       "Nature_of_property    0\n",
       "Type_of_property      0\n",
       "Property_Location     0\n",
       "Date_updated          0\n",
       "Date_added            0\n",
       "No_of_beds            0\n",
       "No_of_baths           0\n",
       "No_of_toilets         0\n",
       "dtype: int64"
      ]
     },
     "execution_count": 66,
     "metadata": {},
     "output_type": "execute_result"
    }
   ],
   "source": [
    "# Identifying null values in the dataset\n",
    "\n",
    "property_df3.isnull().sum()"
   ]
  },
  {
   "cell_type": "code",
   "execution_count": 15,
   "id": "0508c3b8",
   "metadata": {},
   "outputs": [],
   "source": [
    "# Saving the data\n",
    "\n",
    "property_df3.to_csv(\"Cleaned_Property.csv\")"
   ]
  },
  {
   "cell_type": "markdown",
   "id": "2258096f",
   "metadata": {},
   "source": [
    "# Data Analysis process"
   ]
  },
  {
   "cell_type": "code",
   "execution_count": 67,
   "id": "8de347e0",
   "metadata": {},
   "outputs": [
    {
     "data": {
      "text/plain": [
       "455"
      ]
     },
     "execution_count": 67,
     "metadata": {},
     "output_type": "execute_result"
    }
   ],
   "source": [
    "# Checking duplicate values\n",
    "\n",
    "property_df3.duplicated().sum()"
   ]
  },
  {
   "cell_type": "code",
   "execution_count": 68,
   "id": "357d9da4",
   "metadata": {},
   "outputs": [
    {
     "data": {
      "text/html": [
       "<div>\n",
       "<style scoped>\n",
       "    .dataframe tbody tr th:only-of-type {\n",
       "        vertical-align: middle;\n",
       "    }\n",
       "\n",
       "    .dataframe tbody tr th {\n",
       "        vertical-align: top;\n",
       "    }\n",
       "\n",
       "    .dataframe thead th {\n",
       "        text-align: right;\n",
       "    }\n",
       "</style>\n",
       "<table border=\"1\" class=\"dataframe\">\n",
       "  <thead>\n",
       "    <tr style=\"text-align: right;\">\n",
       "      <th></th>\n",
       "      <th>Nature_of_property</th>\n",
       "      <th>Type_of_property</th>\n",
       "      <th>Property_Location</th>\n",
       "      <th>Date_updated</th>\n",
       "      <th>Date_added</th>\n",
       "      <th>No_of_beds</th>\n",
       "      <th>No_of_baths</th>\n",
       "      <th>No_of_toilets</th>\n",
       "    </tr>\n",
       "  </thead>\n",
       "  <tbody>\n",
       "    <tr>\n",
       "      <th>count</th>\n",
       "      <td>486</td>\n",
       "      <td>486</td>\n",
       "      <td>486</td>\n",
       "      <td>486</td>\n",
       "      <td>486</td>\n",
       "      <td>486</td>\n",
       "      <td>486</td>\n",
       "      <td>486</td>\n",
       "    </tr>\n",
       "    <tr>\n",
       "      <th>unique</th>\n",
       "      <td>7</td>\n",
       "      <td>20</td>\n",
       "      <td>25</td>\n",
       "      <td>12</td>\n",
       "      <td>28</td>\n",
       "      <td>6</td>\n",
       "      <td>6</td>\n",
       "      <td>6</td>\n",
       "    </tr>\n",
       "    <tr>\n",
       "      <th>top</th>\n",
       "      <td>LAND FOR SALE</td>\n",
       "      <td>Land</td>\n",
       "      <td>Ikate Lekki Lagos</td>\n",
       "      <td>28 Jul 2022</td>\n",
       "      <td>15 Jul 2021</td>\n",
       "      <td>0</td>\n",
       "      <td>0</td>\n",
       "      <td>0</td>\n",
       "    </tr>\n",
       "    <tr>\n",
       "      <th>freq</th>\n",
       "      <td>381</td>\n",
       "      <td>151</td>\n",
       "      <td>52</td>\n",
       "      <td>165</td>\n",
       "      <td>46</td>\n",
       "      <td>355</td>\n",
       "      <td>355</td>\n",
       "      <td>355</td>\n",
       "    </tr>\n",
       "  </tbody>\n",
       "</table>\n",
       "</div>"
      ],
      "text/plain": [
       "       Nature_of_property Type_of_property  Property_Location Date_updated  \\\n",
       "count                 486              486                486          486   \n",
       "unique                  7               20                 25           12   \n",
       "top         LAND FOR SALE             Land  Ikate Lekki Lagos  28 Jul 2022   \n",
       "freq                  381              151                 52          165   \n",
       "\n",
       "           Date_added No_of_beds No_of_baths No_of_toilets  \n",
       "count             486        486         486           486  \n",
       "unique             28          6           6             6  \n",
       "top      15 Jul 2021          0           0             0   \n",
       "freq               46        355         355           355  "
      ]
     },
     "execution_count": 68,
     "metadata": {},
     "output_type": "execute_result"
    }
   ],
   "source": [
    "# Describing the data\n",
    "\n",
    "property_df3.describe()"
   ]
  },
  {
   "cell_type": "code",
   "execution_count": 69,
   "id": "202697c7",
   "metadata": {},
   "outputs": [
    {
     "data": {
      "text/plain": [
       "Nature_of_property     7\n",
       "Type_of_property      20\n",
       "Property_Location     25\n",
       "Date_updated          12\n",
       "Date_added            28\n",
       "No_of_beds             6\n",
       "No_of_baths            6\n",
       "No_of_toilets          6\n",
       "dtype: int64"
      ]
     },
     "execution_count": 69,
     "metadata": {},
     "output_type": "execute_result"
    }
   ],
   "source": [
    "# Identifying unique values in each column of the data\n",
    "\n",
    "property_df3.nunique()"
   ]
  },
  {
   "cell_type": "code",
   "execution_count": 46,
   "id": "0cc9d3ac",
   "metadata": {},
   "outputs": [],
   "source": [
    "# Collecting necessary info about each column of the data\n",
    "\n",
    "property_df3.info()\n",
    "\n",
    "# Since I indentified the columns 'No_of_beds','No_of_baths' and 'No_of_toilets' are object type, \n",
    "# I decide to change them to int type \n",
    "\n",
    "convert_dict = {\n",
    "    'No_of_beds':int,\n",
    "    'No_of_baths':int,\n",
    "    'No_of_toilets':int\n",
    "    }\n",
    "\n",
    "property_df3[['No_of_beds','No_of_baths','No_of_toilets']] = property_df3[['No_of_beds','No_of_baths','No_of_toilets']].astype(convert_dict)\n",
    "\n",
    "# I tried the format above, I got an error."
   ]
  },
  {
   "cell_type": "code",
   "execution_count": 47,
   "id": "45121735",
   "metadata": {},
   "outputs": [],
   "source": [
    "# I tried another format below, still same error.\n",
    "\n",
    "property_df3['No_of_beds'] = property_df3['No_of_beds'].astype('int64')"
   ]
  },
  {
   "cell_type": "code",
   "execution_count": 88,
   "id": "850a76fd",
   "metadata": {},
   "outputs": [],
   "source": [
    "property_df4 = property_df3.copy()"
   ]
  },
  {
   "cell_type": "code",
   "execution_count": 71,
   "id": "e253ce7a",
   "metadata": {},
   "outputs": [],
   "source": [
    "property_df4['No_of_beds'] = pd.to_numeric(property_df4['No_of_beds'], errors='coerce')"
   ]
  },
  {
   "cell_type": "code",
   "execution_count": 73,
   "id": "8508ef00",
   "metadata": {},
   "outputs": [
    {
     "name": "stdout",
     "output_type": "stream",
     "text": [
      "<class 'pandas.core.series.Series'>\n",
      "RangeIndex: 486 entries, 0 to 485\n",
      "Series name: No_of_beds\n",
      "Non-Null Count  Dtype  \n",
      "--------------  -----  \n",
      "434 non-null    float64\n",
      "dtypes: float64(1)\n",
      "memory usage: 3.9 KB\n"
     ]
    }
   ],
   "source": [
    "property_df4['No_of_beds'].info()"
   ]
  },
  {
   "cell_type": "code",
   "execution_count": 74,
   "id": "f7cece5f",
   "metadata": {},
   "outputs": [],
   "source": [
    "property_df4['No_of_beds'] = property_df4['No_of_beds'].fillna(0)"
   ]
  },
  {
   "cell_type": "code",
   "execution_count": 75,
   "id": "f72fef83",
   "metadata": {},
   "outputs": [
    {
     "data": {
      "text/plain": [
       "0"
      ]
     },
     "execution_count": 75,
     "metadata": {},
     "output_type": "execute_result"
    }
   ],
   "source": [
    "property_df4['No_of_beds'].isnull().sum()"
   ]
  },
  {
   "cell_type": "markdown",
   "id": "74ab246f",
   "metadata": {},
   "source": [
    "## Which property has the highest number of bathrooms, beds and toilets?\n",
    "\n",
    "Grouping the nature of property by number of bathrooms, beds and toilets"
   ]
  },
  {
   "cell_type": "code",
   "execution_count": 70,
   "id": "4209b43a",
   "metadata": {},
   "outputs": [
    {
     "data": {
      "text/html": [
       "<div>\n",
       "<style scoped>\n",
       "    .dataframe tbody tr th:only-of-type {\n",
       "        vertical-align: middle;\n",
       "    }\n",
       "\n",
       "    .dataframe tbody tr th {\n",
       "        vertical-align: top;\n",
       "    }\n",
       "\n",
       "    .dataframe thead th {\n",
       "        text-align: right;\n",
       "    }\n",
       "</style>\n",
       "<table border=\"1\" class=\"dataframe\">\n",
       "  <thead>\n",
       "    <tr style=\"text-align: right;\">\n",
       "      <th></th>\n",
       "      <th>Nature_of_property</th>\n",
       "      <th>No_of_baths</th>\n",
       "    </tr>\n",
       "  </thead>\n",
       "  <tbody>\n",
       "    <tr>\n",
       "      <th>0</th>\n",
       "      <td>10 BEDROOM COMMERCIAL PROPERTY FOR SALE</td>\n",
       "      <td>10  10  10  10  10  10  10  10  10</td>\n",
       "    </tr>\n",
       "    <tr>\n",
       "      <th>1</th>\n",
       "      <td>3 BEDROOM FLAT / APARTMENT FOR SALE</td>\n",
       "      <td>3  3  3  3  3  3  3  3  3  3  3  3  3  3  3  ...</td>\n",
       "    </tr>\n",
       "    <tr>\n",
       "      <th>2</th>\n",
       "      <td>4 BEDROOM HOUSE FOR SALE</td>\n",
       "      <td>4  4  4  4  4  4  4  4  4  4  4  4  4  4  4  ...</td>\n",
       "    </tr>\n",
       "    <tr>\n",
       "      <th>3</th>\n",
       "      <td>6 BEDROOM HOUSE FOR SALE</td>\n",
       "      <td>7  7  7  7  7  7  7  7  7  7  7  7  7  7  7  ...</td>\n",
       "    </tr>\n",
       "    <tr>\n",
       "      <th>4</th>\n",
       "      <td>COMMERCIAL PROPERTY FOR SALE</td>\n",
       "      <td>0  0  0  0  0  0  0  0  0  0  0  0  0  0  0  ...</td>\n",
       "    </tr>\n",
       "    <tr>\n",
       "      <th>5</th>\n",
       "      <td>HOUSE FOR SALE</td>\n",
       "      <td></td>\n",
       "    </tr>\n",
       "    <tr>\n",
       "      <th>6</th>\n",
       "      <td>LAND FOR SALE</td>\n",
       "      <td>0    0  0  0    0  0  0  0    0  0  0    0  0...</td>\n",
       "    </tr>\n",
       "  </tbody>\n",
       "</table>\n",
       "</div>"
      ],
      "text/plain": [
       "                        Nature_of_property  \\\n",
       "0  10 BEDROOM COMMERCIAL PROPERTY FOR SALE   \n",
       "1      3 BEDROOM FLAT / APARTMENT FOR SALE   \n",
       "2                 4 BEDROOM HOUSE FOR SALE   \n",
       "3                 6 BEDROOM HOUSE FOR SALE   \n",
       "4             COMMERCIAL PROPERTY FOR SALE   \n",
       "5                           HOUSE FOR SALE   \n",
       "6                            LAND FOR SALE   \n",
       "\n",
       "                                         No_of_baths  \n",
       "0                10  10  10  10  10  10  10  10  10   \n",
       "1   3  3  3  3  3  3  3  3  3  3  3  3  3  3  3  ...  \n",
       "2   4  4  4  4  4  4  4  4  4  4  4  4  4  4  4  ...  \n",
       "3   7  7  7  7  7  7  7  7  7  7  7  7  7  7  7  ...  \n",
       "4   0  0  0  0  0  0  0  0  0  0  0  0  0  0  0  ...  \n",
       "5                                                     \n",
       "6   0    0  0  0    0  0  0  0    0  0  0    0  0...  "
      ]
     },
     "execution_count": 70,
     "metadata": {},
     "output_type": "execute_result"
    }
   ],
   "source": [
    "baths = property_df3.groupby(\"Nature_of_property\", as_index=False).agg({\"No_of_baths\":\"sum\"})\n",
    "baths"
   ]
  },
  {
   "cell_type": "code",
   "execution_count": 82,
   "id": "69280b9c",
   "metadata": {},
   "outputs": [
    {
     "data": {
      "text/html": [
       "<div>\n",
       "<style scoped>\n",
       "    .dataframe tbody tr th:only-of-type {\n",
       "        vertical-align: middle;\n",
       "    }\n",
       "\n",
       "    .dataframe tbody tr th {\n",
       "        vertical-align: top;\n",
       "    }\n",
       "\n",
       "    .dataframe thead th {\n",
       "        text-align: right;\n",
       "    }\n",
       "</style>\n",
       "<table border=\"1\" class=\"dataframe\">\n",
       "  <thead>\n",
       "    <tr style=\"text-align: right;\">\n",
       "      <th></th>\n",
       "      <th>Nature_of_property</th>\n",
       "      <th>No_of_beds</th>\n",
       "    </tr>\n",
       "  </thead>\n",
       "  <tbody>\n",
       "    <tr>\n",
       "      <th>0</th>\n",
       "      <td>10 BEDROOM COMMERCIAL PROPERTY FOR SALE</td>\n",
       "      <td>90.0</td>\n",
       "    </tr>\n",
       "    <tr>\n",
       "      <th>1</th>\n",
       "      <td>3 BEDROOM FLAT / APARTMENT FOR SALE</td>\n",
       "      <td>66.0</td>\n",
       "    </tr>\n",
       "    <tr>\n",
       "      <th>2</th>\n",
       "      <td>4 BEDROOM HOUSE FOR SALE</td>\n",
       "      <td>100.0</td>\n",
       "    </tr>\n",
       "    <tr>\n",
       "      <th>3</th>\n",
       "      <td>6 BEDROOM HOUSE FOR SALE</td>\n",
       "      <td>138.0</td>\n",
       "    </tr>\n",
       "    <tr>\n",
       "      <th>4</th>\n",
       "      <td>COMMERCIAL PROPERTY FOR SALE</td>\n",
       "      <td>0.0</td>\n",
       "    </tr>\n",
       "    <tr>\n",
       "      <th>5</th>\n",
       "      <td>HOUSE FOR SALE</td>\n",
       "      <td>0.0</td>\n",
       "    </tr>\n",
       "    <tr>\n",
       "      <th>6</th>\n",
       "      <td>LAND FOR SALE</td>\n",
       "      <td>0.0</td>\n",
       "    </tr>\n",
       "  </tbody>\n",
       "</table>\n",
       "</div>"
      ],
      "text/plain": [
       "                        Nature_of_property  No_of_beds\n",
       "0  10 BEDROOM COMMERCIAL PROPERTY FOR SALE        90.0\n",
       "1      3 BEDROOM FLAT / APARTMENT FOR SALE        66.0\n",
       "2                 4 BEDROOM HOUSE FOR SALE       100.0\n",
       "3                 6 BEDROOM HOUSE FOR SALE       138.0\n",
       "4             COMMERCIAL PROPERTY FOR SALE         0.0\n",
       "5                           HOUSE FOR SALE         0.0\n",
       "6                            LAND FOR SALE         0.0"
      ]
     },
     "execution_count": 82,
     "metadata": {},
     "output_type": "execute_result"
    }
   ],
   "source": [
    "beds = property_df4.groupby(\"Nature_of_property\", as_index=False).agg({\"No_of_beds\":\"sum\"})\n",
    "beds"
   ]
  },
  {
   "cell_type": "code",
   "execution_count": 72,
   "id": "c69ee560",
   "metadata": {},
   "outputs": [
    {
     "data": {
      "text/html": [
       "<div>\n",
       "<style scoped>\n",
       "    .dataframe tbody tr th:only-of-type {\n",
       "        vertical-align: middle;\n",
       "    }\n",
       "\n",
       "    .dataframe tbody tr th {\n",
       "        vertical-align: top;\n",
       "    }\n",
       "\n",
       "    .dataframe thead th {\n",
       "        text-align: right;\n",
       "    }\n",
       "</style>\n",
       "<table border=\"1\" class=\"dataframe\">\n",
       "  <thead>\n",
       "    <tr style=\"text-align: right;\">\n",
       "      <th></th>\n",
       "      <th>Nature_of_property</th>\n",
       "      <th>No_of_toilets</th>\n",
       "    </tr>\n",
       "  </thead>\n",
       "  <tbody>\n",
       "    <tr>\n",
       "      <th>0</th>\n",
       "      <td>10 BEDROOM COMMERCIAL PROPERTY FOR SALE</td>\n",
       "      <td>10  10  10  10  10  10  10  10  10</td>\n",
       "    </tr>\n",
       "    <tr>\n",
       "      <th>1</th>\n",
       "      <td>3 BEDROOM FLAT / APARTMENT FOR SALE</td>\n",
       "      <td>3  3  3  3  3  3  3  3  3  3  3  3  3  3  3  ...</td>\n",
       "    </tr>\n",
       "    <tr>\n",
       "      <th>2</th>\n",
       "      <td>4 BEDROOM HOUSE FOR SALE</td>\n",
       "      <td>5  5  5  5  5  5  5  5  5  5  5  5  5  5  5  ...</td>\n",
       "    </tr>\n",
       "    <tr>\n",
       "      <th>3</th>\n",
       "      <td>6 BEDROOM HOUSE FOR SALE</td>\n",
       "      <td>6  6  6  6  6  6  6  6  6  6  6  6  6  6  6  ...</td>\n",
       "    </tr>\n",
       "    <tr>\n",
       "      <th>4</th>\n",
       "      <td>COMMERCIAL PROPERTY FOR SALE</td>\n",
       "      <td>0  0  0  0  0  0  0  0  0  0  0  0  0  0  0  ...</td>\n",
       "    </tr>\n",
       "    <tr>\n",
       "      <th>5</th>\n",
       "      <td>HOUSE FOR SALE</td>\n",
       "      <td></td>\n",
       "    </tr>\n",
       "    <tr>\n",
       "      <th>6</th>\n",
       "      <td>LAND FOR SALE</td>\n",
       "      <td>0    0  0  0    0  0  0  0    0  0  0    0  0...</td>\n",
       "    </tr>\n",
       "  </tbody>\n",
       "</table>\n",
       "</div>"
      ],
      "text/plain": [
       "                        Nature_of_property  \\\n",
       "0  10 BEDROOM COMMERCIAL PROPERTY FOR SALE   \n",
       "1      3 BEDROOM FLAT / APARTMENT FOR SALE   \n",
       "2                 4 BEDROOM HOUSE FOR SALE   \n",
       "3                 6 BEDROOM HOUSE FOR SALE   \n",
       "4             COMMERCIAL PROPERTY FOR SALE   \n",
       "5                           HOUSE FOR SALE   \n",
       "6                            LAND FOR SALE   \n",
       "\n",
       "                                       No_of_toilets  \n",
       "0                10  10  10  10  10  10  10  10  10   \n",
       "1   3  3  3  3  3  3  3  3  3  3  3  3  3  3  3  ...  \n",
       "2   5  5  5  5  5  5  5  5  5  5  5  5  5  5  5  ...  \n",
       "3   6  6  6  6  6  6  6  6  6  6  6  6  6  6  6  ...  \n",
       "4   0  0  0  0  0  0  0  0  0  0  0  0  0  0  0  ...  \n",
       "5                                                     \n",
       "6   0    0  0  0    0  0  0  0    0  0  0    0  0...  "
      ]
     },
     "execution_count": 72,
     "metadata": {},
     "output_type": "execute_result"
    }
   ],
   "source": [
    "toilets = property_df3.groupby(\"Nature_of_property\", as_index=False).agg({\"No_of_toilets\":\"sum\"})\n",
    "toilets"
   ]
  },
  {
   "cell_type": "code",
   "execution_count": 83,
   "id": "dd97d5ec",
   "metadata": {},
   "outputs": [],
   "source": [
    "import matplotlib.pyplot as plt\n",
    "import seaborn as sns"
   ]
  },
  {
   "cell_type": "code",
   "execution_count": 84,
   "id": "c23de7d6",
   "metadata": {},
   "outputs": [
    {
     "data": {
      "image/png": "[encoded data removed]",
      "text/plain": [
       "<Figure size 864x432 with 1 Axes>"
      ]
     },
     "metadata": {
      "needs_background": "light"
     },
     "output_type": "display_data"
    },
    {
     "data": {
      "text/plain": [
       "<Figure size 432x288 with 0 Axes>"
      ]
     },
     "metadata": {},
     "output_type": "display_data"
    }
   ],
   "source": [
    "fig, ax = plt.subplots(figsize= (12,6))\n",
    "g = sns.barplot(data = beds, x = \"Nature_of_property\", y = \"No_of_beds\", ax = ax)\n",
    "g.set(title = \"Number of Beds per Nature of property\",\n",
    "     xlabel = \"Nature_of_property\", \n",
    "     ylabel = \"Number of Beds\")\n",
    "plt.xticks(rotation = 90)\n",
    "plt.show()\n",
    "plt.clf()"
   ]
  },
  {
   "cell_type": "code",
   "execution_count": 85,
   "id": "0bb2b5fb",
   "metadata": {},
   "outputs": [
    {
     "name": "stdout",
     "output_type": "stream",
     "text": [
      "<class 'pandas.core.frame.DataFrame'>\n",
      "RangeIndex: 486 entries, 0 to 485\n",
      "Data columns (total 8 columns):\n",
      " #   Column              Non-Null Count  Dtype  \n",
      "---  ------              --------------  -----  \n",
      " 0   Nature_of_property  486 non-null    object \n",
      " 1   Type_of_property    486 non-null    object \n",
      " 2   Property_Location   486 non-null    object \n",
      " 3   Date_updated        486 non-null    object \n",
      " 4   Date_added          486 non-null    object \n",
      " 5   No_of_beds          486 non-null    float64\n",
      " 6   No_of_baths         486 non-null    object \n",
      " 7   No_of_toilets       486 non-null    object \n",
      "dtypes: float64(1), object(7)\n",
      "memory usage: 30.5+ KB\n"
     ]
    }
   ],
   "source": [
    "property_df4.info()"
   ]
  },
  {
   "cell_type": "code",
   "execution_count": 86,
   "id": "a997863e",
   "metadata": {},
   "outputs": [],
   "source": [
    "#property_df4['Date_updated'] = pd.to_datetime(property_df4['Date_updated'], errors='coerce')"
   ]
  },
  {
   "cell_type": "code",
   "execution_count": 89,
   "id": "495521ed",
   "metadata": {},
   "outputs": [
    {
     "name": "stdout",
     "output_type": "stream",
     "text": [
      "<class 'pandas.core.series.Series'>\n",
      "RangeIndex: 486 entries, 0 to 485\n",
      "Series name: Date_updated\n",
      "Non-Null Count  Dtype \n",
      "--------------  ----- \n",
      "486 non-null    object\n",
      "dtypes: object(1)\n",
      "memory usage: 3.9+ KB\n"
     ]
    }
   ],
   "source": [
    "property_df4['Date_updated'].info()"
   ]
  },
  {
   "cell_type": "code",
   "execution_count": 93,
   "id": "b3b8da23",
   "metadata": {},
   "outputs": [
    {
     "data": {
      "text/html": [
       "<div>\n",
       "<style scoped>\n",
       "    .dataframe tbody tr th:only-of-type {\n",
       "        vertical-align: middle;\n",
       "    }\n",
       "\n",
       "    .dataframe tbody tr th {\n",
       "        vertical-align: top;\n",
       "    }\n",
       "\n",
       "    .dataframe thead th {\n",
       "        text-align: right;\n",
       "    }\n",
       "</style>\n",
       "<table border=\"1\" class=\"dataframe\">\n",
       "  <thead>\n",
       "    <tr style=\"text-align: right;\">\n",
       "      <th></th>\n",
       "      <th>Nature_of_property</th>\n",
       "      <th>Type_of_property</th>\n",
       "      <th>Property_Location</th>\n",
       "      <th>Date_updated</th>\n",
       "      <th>Date_added</th>\n",
       "      <th>No_of_beds</th>\n",
       "      <th>No_of_baths</th>\n",
       "      <th>No_of_toilets</th>\n",
       "    </tr>\n",
       "  </thead>\n",
       "  <tbody>\n",
       "    <tr>\n",
       "      <th>0</th>\n",
       "      <td>4 BEDROOM HOUSE FOR SALE</td>\n",
       "      <td>Spacious 4 Bedroom Semi Detached Duplex</td>\n",
       "      <td>Second Tollgate Lekki Lagos</td>\n",
       "      <td>28 Aug 2022</td>\n",
       "      <td>17 May 2022</td>\n",
       "      <td>4</td>\n",
       "      <td>4</td>\n",
       "      <td>5</td>\n",
       "    </tr>\n",
       "    <tr>\n",
       "      <th>1</th>\n",
       "      <td>LAND FOR SALE</td>\n",
       "      <td>2400sqm Land For Jv</td>\n",
       "      <td>Ikate Lekki Lagos</td>\n",
       "      <td>29 Aug 2022</td>\n",
       "      <td>05 Aug 2022</td>\n",
       "      <td>0</td>\n",
       "      <td>0</td>\n",
       "      <td>0</td>\n",
       "    </tr>\n",
       "    <tr>\n",
       "      <th>2</th>\n",
       "      <td>LAND FOR SALE</td>\n",
       "      <td>Joint Venture Land Measuring 21 Plots</td>\n",
       "      <td>Chevron Cooperative Estate, Alpha Beach New Ro...</td>\n",
       "      <td>22 Aug 2022</td>\n",
       "      <td>11 Apr 2022</td>\n",
       "      <td></td>\n",
       "      <td></td>\n",
       "      <td></td>\n",
       "    </tr>\n",
       "    <tr>\n",
       "      <th>3</th>\n",
       "      <td>LAND FOR SALE</td>\n",
       "      <td>Land For Sale In Lekki</td>\n",
       "      <td>Lekki Lagos</td>\n",
       "      <td>28 Jul 2022</td>\n",
       "      <td>09 Nov 2021</td>\n",
       "      <td>0</td>\n",
       "      <td>0</td>\n",
       "      <td>0</td>\n",
       "    </tr>\n",
       "    <tr>\n",
       "      <th>4</th>\n",
       "      <td>LAND FOR SALE</td>\n",
       "      <td>8000 Sqm Of Joint Venture</td>\n",
       "      <td>Lekki Phase 1 Lekki Lagos</td>\n",
       "      <td>28 Jul 2022</td>\n",
       "      <td>14 Jan 2022</td>\n",
       "      <td>0</td>\n",
       "      <td>0</td>\n",
       "      <td>0</td>\n",
       "    </tr>\n",
       "  </tbody>\n",
       "</table>\n",
       "</div>"
      ],
      "text/plain": [
       "         Nature_of_property                         Type_of_property  \\\n",
       "0  4 BEDROOM HOUSE FOR SALE  Spacious 4 Bedroom Semi Detached Duplex   \n",
       "1             LAND FOR SALE                      2400sqm Land For Jv   \n",
       "2             LAND FOR SALE    Joint Venture Land Measuring 21 Plots   \n",
       "3             LAND FOR SALE                   Land For Sale In Lekki   \n",
       "4             LAND FOR SALE                8000 Sqm Of Joint Venture   \n",
       "\n",
       "                                   Property_Location Date_updated  \\\n",
       "0                        Second Tollgate Lekki Lagos  28 Aug 2022   \n",
       "1                                  Ikate Lekki Lagos  29 Aug 2022   \n",
       "2  Chevron Cooperative Estate, Alpha Beach New Ro...  22 Aug 2022   \n",
       "3                                        Lekki Lagos  28 Jul 2022   \n",
       "4                          Lekki Phase 1 Lekki Lagos  28 Jul 2022   \n",
       "\n",
       "      Date_added No_of_beds No_of_baths No_of_toilets  \n",
       "0   17 May 2022          4           4             5   \n",
       "1   05 Aug 2022          0           0             0   \n",
       "2   11 Apr 2022                                        \n",
       "3   09 Nov 2021          0           0             0   \n",
       "4   14 Jan 2022          0           0             0   "
      ]
     },
     "execution_count": 93,
     "metadata": {},
     "output_type": "execute_result"
    }
   ],
   "source": [
    "property_df4.head()"
   ]
  },
  {
   "cell_type": "code",
   "execution_count": 92,
   "id": "769eae12",
   "metadata": {},
   "outputs": [
    {
     "data": {
      "text/plain": [
       "0      28 Aug 2022\n",
       "1      29 Aug 2022\n",
       "2      22 Aug 2022\n",
       "3      28 Jul 2022\n",
       "4      28 Jul 2022\n",
       "          ...     \n",
       "481    11 Apr 2022\n",
       "482               \n",
       "483               \n",
       "484               \n",
       "485               \n",
       "Name: Date_updated, Length: 486, dtype: object"
      ]
     },
     "execution_count": 92,
     "metadata": {},
     "output_type": "execute_result"
    }
   ],
   "source": [
    "data2 = property_df4[['Date_updated','']]"
   ]
  },
  {
   "cell_type": "code",
   "execution_count": 91,
   "id": "01129031",
   "metadata": {},
   "outputs": [
    {
     "data": {
      "image/png": "[encoded data removed]",
      "text/plain": [
       "<Figure size 864x432 with 1 Axes>"
      ]
     },
     "metadata": {
      "needs_background": "light"
     },
     "output_type": "display_data"
    },
    {
     "data": {
      "text/plain": [
       "<Figure size 432x288 with 0 Axes>"
      ]
     },
     "metadata": {},
     "output_type": "display_data"
    }
   ],
   "source": [
    "fig, ax = plt.subplots(figsize= (12,6))\n",
    "g = sns.lineplot(data = property_df4['Date_updated'], ax = ax)\n",
    "g.set(title = \"Number of documents per year\",\n",
    "     xlabel = \"Year\", \n",
    "     ylabel = \"Number Documents\")\n",
    "plt.xticks(rotation = 90)\n",
    "plt.show()\n",
    "plt.clf()"
   ]
  },
  {
   "cell_type": "markdown",
   "id": "229489fa",
   "metadata": {},
   "source": [
    "# I am sorry I wasn't able to complete this project. It was due to issues beyond my control. "
   ]
  }
 ],
 "metadata": {
  "kernelspec": {
   "display_name": "Python 3 (ipykernel)",
   "language": "python",
   "name": "python3"
  },
  "language_info": {
   "codemirror_mode": {
    "name": "ipython",
    "version": 3
   },
   "file_extension": ".py",
   "mimetype": "text/x-python",
   "name": "python",
   "nbconvert_exporter": "python",
   "pygments_lexer": "ipython3",
   "version": "3.9.12"
  }
 },
 "nbformat": 4,
 "nbformat_minor": 5
}
