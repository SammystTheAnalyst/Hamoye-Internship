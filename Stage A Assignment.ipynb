{
 "cells": [
  {
   "cell_type": "code",
   "execution_count": null,
   "id": "ba5500d5",
   "metadata": {},
   "outputs": [],
   "source": [
    "# Importing necessary libraries\n",
    "\n",
    "import pandas as pd\n",
    "import numpy as np"
   ]
  },
  {
   "cell_type": "code",
   "execution_count": null,
   "id": "6dd86b60",
   "metadata": {},
   "outputs": [],
   "source": [
    "# Checking for text encoding of the csv file\n",
    "with open('FoodBalanceSheets_E_Africa_NOFLAG.csv') as f:\n",
    "    print(f)"
   ]
  },
  {
   "cell_type": "code",
   "execution_count": null,
   "id": "703ea794",
   "metadata": {},
   "outputs": [],
   "source": [
    "# Reading the csv file with the encoding\n",
    "df = pd.read_csv('FoodBalanceSheets_E_Africa_NOFLAG.csv', encoding='cp1252')\n",
    "df"
   ]
  },
  {
   "cell_type": "code",
   "execution_count": null,
   "id": "e1b6c245",
   "metadata": {},
   "outputs": [],
   "source": [
    "# Checking for missing values\n",
    "df.isnull().sum()"
   ]
  },
  {
   "cell_type": "code",
   "execution_count": null,
   "id": "9f5dccaa",
   "metadata": {},
   "outputs": [],
   "source": [
    "# Replace missing values with the mean values of columns Y2014, Y2015, Y2016, Y2017, Y2018\n",
    "df.fillna(df.mean(), inplace=True)"
   ]
  },
  {
   "cell_type": "code",
   "execution_count": null,
   "id": "fe09b11b",
   "metadata": {},
   "outputs": [],
   "source": [
    "# Check to confirm the filling\n",
    "df.isnull().sum()"
   ]
  },
  {
   "cell_type": "code",
   "execution_count": null,
   "id": "0d05af5d",
   "metadata": {},
   "outputs": [],
   "source": [
    "# Checking for duplicate values\n",
    "df.duplicated().any()"
   ]
  },
  {
   "cell_type": "code",
   "execution_count": null,
   "id": "af521588",
   "metadata": {},
   "outputs": [],
   "source": [
    "# Dividing the data into two(2) dataframes\n",
    "fao_df1 = df.iloc[0:30471].reset_index(drop=True)\n",
    "fao_df2 = df.iloc[30471:].reset_index(drop=True)"
   ]
  },
  {
   "cell_type": "code",
   "execution_count": null,
   "id": "417cca91",
   "metadata": {},
   "outputs": [],
   "source": [
    "# Check that the length of both dataframes sum to the expected length\n",
    "assert len(df) == (len(fao_df1)) + (len(fao_df2))"
   ]
  },
  {
   "cell_type": "code",
   "execution_count": null,
   "id": "1359a7e1",
   "metadata": {},
   "outputs": [],
   "source": [
    "# Outer merge the two dataframes\n",
    "df3 = pd.merge(fao_df1, fao_df2, how=\"outer\")\n",
    "df3"
   ]
  },
  {
   "cell_type": "code",
   "execution_count": null,
   "id": "360c6479",
   "metadata": {},
   "outputs": [],
   "source": [
    "# Import plotting library\n",
    "import matplotlib.pyplot as plt\n",
    "import seaborn as sns\n"
   ]
  },
  {
   "cell_type": "code",
   "execution_count": null,
   "id": "81528771",
   "metadata": {},
   "outputs": [],
   "source": [
    "# Take sample of the dataset\n",
    "sample_df = df3.sample(n=50, random_state=4)\n",
    "plt.figure(figsize=(7,4))\n",
    "plt.xticks(rotation=90)\n",
    "sns.barplot(data=df3, x=sample_df['Item'], y=sample_df['Y2014'])\n",
    "plt.xlabel('Spread of Items in 2014')"
   ]
  },
  {
   "cell_type": "code",
   "execution_count": null,
   "id": "d35f98fb",
   "metadata": {},
   "outputs": [],
   "source": [
    "lst = [[35, 'Portugal', 94], [33, 'Argentina', 93], [30 , 'Brazil', 92]]\n",
    "col = ['Age','Nationality','Overall']\n",
    "data = pd.DataFrame(lst, columns=col, index=[i for i in range(1,4)])\n",
    "print(data)"
   ]
  },
  {
   "cell_type": "code",
   "execution_count": null,
   "id": "a87f5261",
   "metadata": {},
   "outputs": [],
   "source": [
    "df['Item'].unique()"
   ]
  },
  {
   "cell_type": "code",
   "execution_count": null,
   "id": "f4f09f32",
   "metadata": {},
   "outputs": [],
   "source": [
    "#df.groupby('Item').sum()\n",
    "df.groupby('Element').sum()\n",
    "#df.groupby('Area')['Element'].sum()"
   ]
  },
  {
   "cell_type": "code",
   "execution_count": null,
   "id": "7cae8a7c",
   "metadata": {},
   "outputs": [],
   "source": [
    "mean_value = df['Y2015'].mean()\n",
    "print(mean_value)"
   ]
  },
  {
   "cell_type": "code",
   "execution_count": null,
   "id": "d259e74f",
   "metadata": {},
   "outputs": [],
   "source": [
    "df['Y2016'].isnull().sum()"
   ]
  },
  {
   "cell_type": "code",
   "execution_count": null,
   "id": "a0a55d01",
   "metadata": {},
   "outputs": [],
   "source": [
    "df.corr()"
   ]
  },
  {
   "cell_type": "code",
   "execution_count": null,
   "id": "562449af",
   "metadata": {},
   "outputs": [],
   "source": [
    "df['Area'].nunique()"
   ]
  },
  {
   "cell_type": "code",
   "execution_count": null,
   "id": "637dd27f",
   "metadata": {},
   "outputs": [],
   "source": [
    "S = [['him', 'sell'], [90, 28, 43]]\n",
    "S[0][1][1]"
   ]
  },
  {
   "cell_type": "code",
   "execution_count": null,
   "id": "4d67c364",
   "metadata": {},
   "outputs": [],
   "source": [
    "my_tuppy = (1,2,5,8)\n",
    "\n",
    "my_tuppy[2] = 6"
   ]
  },
  {
   "cell_type": "code",
   "execution_count": null,
   "id": "d2759375",
   "metadata": {},
   "outputs": [],
   "source": [
    "y = [(2, 4), (7, 8), (1, 5, 9)]\n",
    "\n",
    "x = y[1][-1]\n",
    "print(x)"
   ]
  },
  {
   "cell_type": "code",
   "execution_count": null,
   "id": "ab469dc6",
   "metadata": {},
   "outputs": [],
   "source": []
  }
 ],
 "metadata": {
  "kernelspec": {
   "display_name": "Python 3 (ipykernel)",
   "language": "python",
   "name": "python3"
  },
  "language_info": {
   "codemirror_mode": {
    "name": "ipython",
    "version": 3
   },
   "file_extension": ".py",
   "mimetype": "text/x-python",
   "name": "python",
   "nbconvert_exporter": "python",
   "pygments_lexer": "ipython3",
   "version": "3.9.12"
  }
 },
 "nbformat": 4,
 "nbformat_minor": 5
}
